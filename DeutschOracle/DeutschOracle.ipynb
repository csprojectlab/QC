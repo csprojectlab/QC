{
 "cells": [
  {
   "cell_type": "markdown",
   "source": [
    "## BLACK BOX OPERATIONS"
   ],
   "metadata": {}
  },
  {
   "cell_type": "code",
   "execution_count": 4,
   "source": [
    "// Constant-0 Operation.\r\n",
    "operation ConstantZero(input: Qubit, output: Qubit): Unit {\r\n",
    "    // This function do nothing. This is the definition of constant zero.\r\n",
    "}\r\n",
    "\r\n",
    "// Constant-1 Operation.\r\n",
    "operation ConstantOne(input: Qubit, output: Qubit): Unit {\r\n",
    "    X(output);\r\n",
    "}\r\n",
    "\r\n",
    "// Identity Operation\r\n",
    "operation Identity(input: Qubit, output: Qubit): Unit {\r\n",
    "    CNOT(input, output);\r\n",
    "}\r\n",
    "\r\n",
    "// Negation Operation.\r\n",
    "operation Negation(input: Qubit, output: Qubit): Unit {\r\n",
    "    CNOT(input, output);\r\n",
    "    X(output);\r\n",
    "}"
   ],
   "outputs": [
    {
     "output_type": "execute_result",
     "data": {
      "text/html": [
       "<ul><li>ConstantZero</li><li>ConstantOne</li><li>Identity</li><li>Negation</li></ul>"
      ],
      "text/plain": [
       "ConstantZero, ConstantOne, Identity, Negation"
      ],
      "application/x-qsharp-data": "[\"ConstantZero\",\"ConstantOne\",\"Identity\",\"Negation\"]"
     },
     "metadata": {},
     "execution_count": 4
    }
   ],
   "metadata": {}
  },
  {
   "cell_type": "markdown",
   "source": [
    "## IS BLACK BOX CONSTANT FUNCTION"
   ],
   "metadata": {}
  },
  {
   "cell_type": "code",
   "execution_count": 5,
   "source": [
    "operation IsBlackBoxConstant(backBox: ((Qubit, Qubit) => Unit)): Bool {\r\n",
    "        mutable inputResult = Zero;\r\n",
    "        mutable outputResult = Zero;\r\n",
    "\r\n",
    "        // Allocate 2 Qubits\r\n",
    "        use qubits = Qubit[2];\r\n",
    "\r\n",
    "        // Label qubits as input and output.\r\n",
    "        let input = qubits[0];\r\n",
    "        let output = qubits[1];\r\n",
    "\r\n",
    "        // Preprocessing\r\n",
    "        X(input);\r\n",
    "        X(output);\r\n",
    "        H(input);\r\n",
    "        H(output);\r\n",
    "\r\n",
    "        // Send qbits into blackbox.\r\n",
    "        backBox(input, output);\r\n",
    "\r\n",
    "        // Post-processing\r\n",
    "        H(input);\r\n",
    "        H(output);\r\n",
    "\r\n",
    "        // Measure both qubits\r\n",
    "        set inputResult = M(input);\r\n",
    "        set outputResult = M(output);\r\n",
    "\r\n",
    "        // If inputResult is one, then blackbox is constant; if 0, is balanced.\r\n",
    "        return inputResult == One;\r\n",
    "}"
   ],
   "outputs": [
    {
     "output_type": "execute_result",
     "data": {
      "text/html": [
       "<ul><li>IsBlackBoxConstant</li></ul>"
      ],
      "text/plain": [
       "IsBlackBoxConstant"
      ],
      "application/x-qsharp-data": "[\"IsBlackBoxConstant\"]"
     },
     "metadata": {},
     "execution_count": 5
    }
   ],
   "metadata": {}
  },
  {
   "cell_type": "code",
   "execution_count": 6,
   "source": [
    "operation IsConstantZeroConstant(): Bool {\r\n",
    "        return IsBlackBoxConstant(ConstantZero);\r\n",
    "    }\r\n",
    "\r\n",
    "    operation IsConstantOneConstant(): Bool {\r\n",
    "        return IsBlackBoxConstant(ConstantOne);\r\n",
    "    }\r\n",
    "\r\n",
    "    operation IsIdentityConstant(): Bool {\r\n",
    "        return IsBlackBoxConstant(Identity);\r\n",
    "    }\r\n",
    "\r\n",
    "    operation IsNegationConstant(): Bool {\r\n",
    "        return IsBlackBoxConstant(Negation);\r\n",
    "    }"
   ],
   "outputs": [
    {
     "output_type": "execute_result",
     "data": {
      "text/html": [
       "<ul><li>IsConstantZeroConstant</li><li>IsConstantOneConstant</li><li>IsIdentityConstant</li><li>IsNegationConstant</li></ul>"
      ],
      "text/plain": [
       "IsConstantZeroConstant, IsConstantOneConstant, IsIdentityConstant, IsNegationConstant"
      ],
      "application/x-qsharp-data": "[\"IsConstantZeroConstant\",\"IsConstantOneConstant\",\"IsIdentityConstant\",\"IsNegationConstant\"]"
     },
     "metadata": {},
     "execution_count": 6
    }
   ],
   "metadata": {}
  },
  {
   "cell_type": "markdown",
   "source": [
    "## Driver Functions\r\n",
    "* If output is True then function is Constant\r\n",
    "* If output is False then function is balanced"
   ],
   "metadata": {}
  },
  {
   "cell_type": "code",
   "execution_count": 28,
   "source": [
    "%simulate IsConstantZeroConstant"
   ],
   "outputs": [
    {
     "output_type": "execute_result",
     "data": {
      "text/plain": [
       "True"
      ],
      "application/x-qsharp-data": "true"
     },
     "metadata": {},
     "execution_count": 28
    }
   ],
   "metadata": {}
  },
  {
   "cell_type": "code",
   "execution_count": 29,
   "source": [
    "%simulate IsConstantOneConstant"
   ],
   "outputs": [
    {
     "output_type": "execute_result",
     "data": {
      "text/plain": [
       "True"
      ],
      "application/x-qsharp-data": "true"
     },
     "metadata": {},
     "execution_count": 29
    }
   ],
   "metadata": {}
  },
  {
   "cell_type": "code",
   "execution_count": 30,
   "source": [
    "%simulate IsIdentityConstant"
   ],
   "outputs": [
    {
     "output_type": "execute_result",
     "data": {
      "text/plain": [
       "False"
      ],
      "application/x-qsharp-data": "false"
     },
     "metadata": {},
     "execution_count": 30
    }
   ],
   "metadata": {}
  },
  {
   "cell_type": "code",
   "execution_count": 31,
   "source": [
    "%simulate IsNegationConstant"
   ],
   "outputs": [
    {
     "output_type": "execute_result",
     "data": {
      "text/plain": [
       "False"
      ],
      "application/x-qsharp-data": "false"
     },
     "metadata": {},
     "execution_count": 31
    }
   ],
   "metadata": {}
  }
 ],
 "metadata": {
  "orig_nbformat": 4,
  "language_info": {
   "name": "qsharp",
   "version": "0.14",
   "mimetype": "text/x-qsharp",
   "file_extension": ".qs"
  },
  "kernelspec": {
   "name": "python396jvsc74a57bd03040a2fa4abe97027bc8bec72cdce9261978cbed962c99c1ff3683f945e1261c",
   "display_name": "Q#",
   "language": "qsharp"
  }
 },
 "nbformat": 4,
 "nbformat_minor": 2
}